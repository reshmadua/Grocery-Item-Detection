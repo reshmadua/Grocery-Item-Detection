{
 "cells": [
  {
   "cell_type": "markdown",
   "id": "9914b7f5",
   "metadata": {},
   "source": [
    "# Image Scraping using Google Image Crawler"
   ]
  },
  {
   "cell_type": "code",
   "execution_count": 1,
   "id": "2e9ae535",
   "metadata": {},
   "outputs": [
    {
     "name": "stdout",
     "output_type": "stream",
     "text": [
      "Requirement already satisfied: icrawler in c:\\users\\reshma dua\\anaconda3\\lib\\site-packages (0.6.6)\n",
      "Requirement already satisfied: lxml in c:\\users\\reshma dua\\anaconda3\\lib\\site-packages (from icrawler) (4.5.2)\n",
      "Requirement already satisfied: beautifulsoup4>=4.4.1 in c:\\users\\reshma dua\\anaconda3\\lib\\site-packages (from icrawler) (4.9.1)\n",
      "Requirement already satisfied: six>=1.10.0 in c:\\users\\reshma dua\\anaconda3\\lib\\site-packages (from icrawler) (1.15.0)\n",
      "Requirement already satisfied: requests>=2.9.1 in c:\\users\\reshma dua\\anaconda3\\lib\\site-packages (from icrawler) (2.24.0)\n",
      "Requirement already satisfied: Pillow in c:\\users\\reshma dua\\anaconda3\\lib\\site-packages (from icrawler) (7.0.0)\n",
      "Requirement already satisfied: soupsieve>1.2 in c:\\users\\reshma dua\\anaconda3\\lib\\site-packages (from beautifulsoup4>=4.4.1->icrawler) (2.0.1)\n",
      "Requirement already satisfied: urllib3!=1.25.0,!=1.25.1,<1.26,>=1.21.1 in c:\\users\\reshma dua\\anaconda3\\lib\\site-packages (from requests>=2.9.1->icrawler) (1.25.9)\n",
      "Requirement already satisfied: chardet<4,>=3.0.2 in c:\\users\\reshma dua\\anaconda3\\lib\\site-packages (from requests>=2.9.1->icrawler) (3.0.4)\n",
      "Requirement already satisfied: idna<3,>=2.5 in c:\\users\\reshma dua\\anaconda3\\lib\\site-packages (from requests>=2.9.1->icrawler) (2.10)\n",
      "Requirement already satisfied: certifi>=2017.4.17 in c:\\users\\reshma dua\\anaconda3\\lib\\site-packages (from requests>=2.9.1->icrawler) (2021.5.30)\n"
     ]
    }
   ],
   "source": [
    "! pip install icrawler\n",
    "from icrawler.builtin import GoogleImageCrawler"
   ]
  },
  {
   "cell_type": "code",
   "execution_count": null,
   "id": "d9c1e990",
   "metadata": {},
   "outputs": [],
   "source": [
    "# Chips\n",
    "location = r'C:\\Users\\Reshma Dua\\M.Sc BDA_Sem3\\August Project\\image_dataset\\chips'\n",
    "obj = input('What are you looking for: ')\n",
    "num_images = int(input('Enter the number of images: '))\n",
    "google_crawler = GoogleImageCrawler(storage={'root_dir': location})\n",
    "google_crawler.crawl(keyword=obj, max_num=num_images)"
   ]
  },
  {
   "cell_type": "code",
   "execution_count": null,
   "id": "19da9fda",
   "metadata": {},
   "outputs": [],
   "source": [
    "# Chocolate\n",
    "location = r'C:\\Users\\Reshma Dua\\M.Sc BDA_Sem3\\August Project\\image_dataset\\chocolate'\n",
    "obj = input('What are you looking for: ')\n",
    "num_images = int(input('Enter the number of images: '))\n",
    "google_crawler = GoogleImageCrawler(storage={'root_dir': location})\n",
    "google_crawler.crawl(keyword=obj, max_num=num_images)"
   ]
  },
  {
   "cell_type": "code",
   "execution_count": null,
   "id": "d8c2c624",
   "metadata": {},
   "outputs": [],
   "source": [
    "# Icecream\n",
    "location = r'C:\\Users\\Reshma Dua\\M.Sc BDA_Sem3\\August Project\\image_dataset\\icecream'\n",
    "obj = input('What are you looking for: ')\n",
    "num_images = int(input('Enter the number of images: '))\n",
    "google_crawler = GoogleImageCrawler(storage={'root_dir': location})\n",
    "google_crawler.crawl(keyword=obj, max_num=num_images)"
   ]
  },
  {
   "cell_type": "code",
   "execution_count": null,
   "id": "c1f524bb",
   "metadata": {},
   "outputs": [],
   "source": [
    "# Maggi\n",
    "location = r'C:\\Users\\Reshma Dua\\M.Sc BDA_Sem3\\August Project\\image_dataset\\maggi'\n",
    "obj = input('What are you looking for: ')\n",
    "num_images = int(input('Enter the number of images: '))\n",
    "google_crawler = GoogleImageCrawler(storage={'root_dir': location})\n",
    "google_crawler.crawl(keyword=obj, max_num=num_images)"
   ]
  },
  {
   "cell_type": "code",
   "execution_count": null,
   "id": "44c55d99",
   "metadata": {},
   "outputs": [],
   "source": [
    "# Softdrink\n",
    "location = r'C:\\Users\\Reshma Dua\\M.Sc BDA_Sem3\\August Project\\image_dataset\\softdrink'\n",
    "obj = input('What are you looking for: ')\n",
    "num_images = int(input('Enter the number of images: '))\n",
    "google_crawler = GoogleImageCrawler(storage={'root_dir': location})\n",
    "google_crawler.crawl(keyword=obj, max_num=num_images)"
   ]
  }
 ],
 "metadata": {
  "kernelspec": {
   "display_name": "Python 3 (ipykernel)",
   "language": "python",
   "name": "python3"
  },
  "language_info": {
   "codemirror_mode": {
    "name": "ipython",
    "version": 3
   },
   "file_extension": ".py",
   "mimetype": "text/x-python",
   "name": "python",
   "nbconvert_exporter": "python",
   "pygments_lexer": "ipython3",
   "version": "3.8.3"
  }
 },
 "nbformat": 4,
 "nbformat_minor": 5
}
